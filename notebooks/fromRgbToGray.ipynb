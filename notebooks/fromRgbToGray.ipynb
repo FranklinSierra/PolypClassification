{
 "cells": [
  {
   "cell_type": "code",
   "execution_count": 1,
   "metadata": {},
   "outputs": [],
   "source": [
    "import os\n",
    "import cv2\n",
    "import glob\n",
    "import numpy as np\n",
    "import matplotlib.pyplot as plt"
   ]
  },
  {
   "cell_type": "code",
   "execution_count": null,
   "metadata": {},
   "outputs": [],
   "source": [
    "rgb = '../data/RGB/NBI/serrated_NBI/video_9/serrated_NBI_video_9_img_1.png'\n",
    "#pixels= load_img(rgb, color_mode = \"rgb\")\n",
    "pixels = cv2.imread(rgb)\n",
    "print(\"original size \",pixels.shape)\n",
    "#pixels= np.array(pixels)\n",
    "#print(\"after conver: \", pixels.shape)\n",
    "img2= np.zeros(pixels.shape)\n",
    "print(\"img2: \",img2.shape)\n",
    "pixels= cv2.cvtColor(pixels, cv2.COLOR_BGR2GRAY)\n",
    "print(\"after read as gray: \", pixels.shape)\n",
    "\n",
    "img2[:,:,0]= pixels\n",
    "img2[:,:,1]= pixels\n",
    "img2[:,:,2]= pixels\n",
    "cv2.imwrite('prueba.png', img2)"
   ]
  },
  {
   "cell_type": "markdown",
   "metadata": {},
   "source": [
    "# Main"
   ]
  },
  {
   "cell_type": "code",
   "execution_count": null,
   "metadata": {},
   "outputs": [
    {
     "name": "stdout",
     "output_type": "stream",
     "text": [
      "serrated_NBI  folder created!\n",
      "video_9  folder created!\n",
      "video_11  folder created!\n",
      "video_12  folder created!\n",
      "video_6  folder created!\n",
      "video_8  folder created!\n",
      "video_7  folder created!\n",
      "video_10  folder created!\n",
      "video_13  folder created!\n",
      "video_5  folder created!\n",
      "video_3  folder created!\n",
      "video_15  folder created!\n",
      "video_2  folder created!\n",
      "video_4  folder created!\n",
      "video_1  folder created!\n",
      "video_14  folder created!\n",
      "hiperplastic_NBI  folder created!\n",
      "video_9  folder created!\n",
      "video_19  folder created!\n",
      "video_18  folder created!\n",
      "video_11  folder created!\n",
      "video_12  folder created!\n",
      "video_6  folder created!\n",
      "video_8  folder created!\n",
      "video_7  folder created!\n",
      "video_10  folder created!\n",
      "video_13  folder created!\n",
      "video_5  folder created!\n",
      "video_3  folder created!\n",
      "video_15  folder created!\n",
      "video_2  folder created!\n",
      "video_4  folder created!\n",
      "video_20  folder created!\n",
      "video_21  folder created!\n",
      "video_16  folder created!\n",
      "video_17  folder created!\n",
      "video_1  folder created!\n",
      "video_14  folder created!\n",
      "adenoma_NBI  folder created!\n",
      "video_33  folder created!\n",
      "video_9  folder created!\n",
      "video_19  folder created!\n",
      "video_35  folder created!\n",
      "video_18  folder created!\n",
      "video_22  folder created!\n",
      "video_11  folder created!\n",
      "video_27  folder created!\n",
      "video_12  folder created!\n",
      "video_6  folder created!\n",
      "video_8  folder created!\n",
      "video_7  folder created!\n",
      "video_32  folder created!\n",
      "video_10  folder created!\n",
      "video_13  folder created!\n",
      "video_37  folder created!\n",
      "video_5  folder created!\n",
      "video_30  folder created!\n",
      "video_3  folder created!\n",
      "video_39  folder created!\n",
      "video_15  folder created!\n",
      "video_31  folder created!\n",
      "video_25  folder created!\n",
      "video_2  folder created!\n",
      "video_4  folder created!\n",
      "video_20  folder created!\n"
     ]
    }
   ],
   "source": [
    "gen_path = \"../data/RGB/NBI/\"\n",
    "save_path = \"../data/Gray/NBI/\"\n",
    "size = (768,576)\n",
    "for path in glob.iglob(gen_path + '**/*.png', recursive=True):\n",
    "    inf = path.split('/')\n",
    "    clase = inf[4]\n",
    "    video = inf[5]\n",
    "    name = inf[6]\n",
    "    # Check whether the path exists or not\n",
    "    class_path = save_path + clase\n",
    "    video_path = class_path + '/' + video\n",
    "    isExistclassPth = os.path.exists(class_path)\n",
    "    isExistvideoPth = os.path.exists(video_path)\n",
    "    if not isExistclassPth:\n",
    "        # Create a new directory because it does not exist \n",
    "        os.makedirs(class_path)\n",
    "        print(clase, \" folder created!\")\n",
    "    if not isExistvideoPth:\n",
    "        # Create a new directory because it does not exist \n",
    "        os.makedirs(video_path)\n",
    "        print(video, \" folder created!\")\n",
    "    # load and resize the image\n",
    "    \n",
    "    pixels= cv2.imread(path)\n",
    "    #grayscale from rgb version\n",
    "    img2= np.zeros(pixels.shape)\n",
    "    pixels= cv2.cvtColor(pixels, cv2.COLOR_BGR2GRAY)\n",
    "    img2[:,:,0]= pixels\n",
    "    img2[:,:,1]= pixels\n",
    "    img2[:,:,2]= pixels\n",
    "    # store\n",
    "    file_name = video_path + '/' + name\n",
    "    cv2.imwrite(file_name, img2)"
   ]
  },
  {
   "cell_type": "code",
   "execution_count": null,
   "metadata": {},
   "outputs": [],
   "source": []
  }
 ],
 "metadata": {
  "kernelspec": {
   "display_name": "Python 3",
   "language": "python",
   "name": "python3"
  },
  "language_info": {
   "codemirror_mode": {
    "name": "ipython",
    "version": 3
   },
   "file_extension": ".py",
   "mimetype": "text/x-python",
   "name": "python",
   "nbconvert_exporter": "python",
   "pygments_lexer": "ipython3",
   "version": "3.8.10"
  }
 },
 "nbformat": 4,
 "nbformat_minor": 2
}
